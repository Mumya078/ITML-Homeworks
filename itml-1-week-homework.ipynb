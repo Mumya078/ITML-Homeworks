{
 "cells": [
  {
   "cell_type": "code",
   "execution_count": 1,
   "id": "b165dfe0",
   "metadata": {
    "_cell_guid": "b1076dfc-b9ad-4769-8c92-a6c4dae69d19",
    "_uuid": "8f2839f25d086af736a60e9eeb907d3b93b6e0e5",
    "execution": {
     "iopub.execute_input": "2023-03-01T20:51:15.696160Z",
     "iopub.status.busy": "2023-03-01T20:51:15.694587Z",
     "iopub.status.idle": "2023-03-01T20:51:15.711260Z",
     "shell.execute_reply": "2023-03-01T20:51:15.709651Z"
    },
    "papermill": {
     "duration": 0.02608,
     "end_time": "2023-03-01T20:51:15.714495",
     "exception": false,
     "start_time": "2023-03-01T20:51:15.688415",
     "status": "completed"
    },
    "tags": []
   },
   "outputs": [
    {
     "name": "stdout",
     "output_type": "stream",
     "text": [
      "10\n",
      "50\n",
      "[10, 20, 30]\n",
      "[10, 20, 30, 40, 50, 60]\n",
      "[60, 50, 40, 30, 20, 10]\n"
     ]
    }
   ],
   "source": [
    "list_sayi=[10,20,30,40,50]\n",
    "\n",
    "type(list_sayi)\n",
    "\n",
    "value=list_sayi[0]\n",
    "print(value)\n",
    "son=list_sayi[-1]\n",
    "print(son)\n",
    "\n",
    "print3=list_sayi[0:3]\n",
    "print(print3)\n",
    "\n",
    "dir(list_sayi)\n",
    "\n",
    "\n",
    "list_sayi.append(60)\n",
    "\n",
    "print5=list_sayi[0:6]\n",
    "print(print5)\n",
    "\n",
    "list_sayi.reverse()\n",
    "print6=list_sayi[0:6]\n",
    "print(print6)\n"
   ]
  },
  {
   "cell_type": "code",
   "execution_count": 2,
   "id": "2c46486d",
   "metadata": {
    "execution": {
     "iopub.execute_input": "2023-03-01T20:51:15.723835Z",
     "iopub.status.busy": "2023-03-01T20:51:15.723002Z",
     "iopub.status.idle": "2023-03-01T20:51:15.732722Z",
     "shell.execute_reply": "2023-03-01T20:51:15.730882Z"
    },
    "papermill": {
     "duration": 0.017294,
     "end_time": "2023-03-01T20:51:15.735339",
     "exception": false,
     "start_time": "2023-03-01T20:51:15.718045",
     "status": "completed"
    },
    "tags": []
   },
   "outputs": [
    {
     "name": "stdout",
     "output_type": "stream",
     "text": [
      "Var1 küçüktür var2\n",
      "value değeri 3 listenin içindedir\n"
     ]
    }
   ],
   "source": [
    "#şartlar\n",
    "\n",
    "1 == 1 #True\n",
    "1 == 2 #False\n",
    "1 != 1 #False\n",
    "True == True #True\n",
    "True == False #False\n",
    "1>0 and 4<5 #True\n",
    "1>0 or 4<3 #True (tek durumun doğru olması yeterli)\n",
    "\n",
    "var1=10\n",
    "var2=20\n",
    "\n",
    "if(var1>var2):\n",
    "    print(\"Var1 büyüktür var2\")\n",
    "elif(var1==var2):\n",
    "    print(\"Var1 eşittir var2\")\n",
    "else:\n",
    "    print(\"Var1 küçüktür var2\")\n",
    "\n",
    "liste=[1,2,3,4,5]\n",
    "value=3\n",
    "if value in liste:\n",
    "    print(\"value değeri {} listenin içindedir\".format(value))\n",
    "else:\n",
    "    print(\"value değeri {} listenin içinde değildir\".format(value))"
   ]
  },
  {
   "cell_type": "code",
   "execution_count": 3,
   "id": "3fe480f4",
   "metadata": {
    "execution": {
     "iopub.execute_input": "2023-03-01T20:51:15.744401Z",
     "iopub.status.busy": "2023-03-01T20:51:15.743611Z",
     "iopub.status.idle": "2023-03-01T20:51:15.750582Z",
     "shell.execute_reply": "2023-03-01T20:51:15.749248Z"
    },
    "papermill": {
     "duration": 0.014792,
     "end_time": "2023-03-01T20:51:15.753788",
     "exception": false,
     "start_time": "2023-03-01T20:51:15.738996",
     "status": "completed"
    },
    "tags": []
   },
   "outputs": [
    {
     "name": "stdout",
     "output_type": "stream",
     "text": [
      "0\n",
      "1\n",
      "2\n",
      "3\n",
      "4\n"
     ]
    }
   ],
   "source": [
    "i=0 \n",
    "\n",
    "while (i<5):\n",
    "    \n",
    "    print(i)\n",
    "    \n",
    "    i = i+1 #i 4 olasıya kadar yazdır"
   ]
  },
  {
   "cell_type": "code",
   "execution_count": 4,
   "id": "29fca264",
   "metadata": {
    "execution": {
     "iopub.execute_input": "2023-03-01T20:51:15.762371Z",
     "iopub.status.busy": "2023-03-01T20:51:15.761659Z",
     "iopub.status.idle": "2023-03-01T20:51:15.770950Z",
     "shell.execute_reply": "2023-03-01T20:51:15.769612Z"
    },
    "papermill": {
     "duration": 0.016275,
     "end_time": "2023-03-01T20:51:15.773319",
     "exception": false,
     "start_time": "2023-03-01T20:51:15.757044",
     "status": "completed"
    },
    "tags": []
   },
   "outputs": [
    {
     "data": {
      "text/plain": [
       "18.84"
      ]
     },
     "execution_count": 4,
     "metadata": {},
     "output_type": "execute_result"
    }
   ],
   "source": [
    "#fonksiyon tanımlama default\n",
    "\n",
    "def cember_cevre(r,pi=3.14):\n",
    "    output= 2*pi*r\n",
    "    return output\n",
    "cember_cevre(3)"
   ]
  },
  {
   "cell_type": "code",
   "execution_count": 5,
   "id": "22f8bfed",
   "metadata": {
    "execution": {
     "iopub.execute_input": "2023-03-01T20:51:15.782015Z",
     "iopub.status.busy": "2023-03-01T20:51:15.781268Z",
     "iopub.status.idle": "2023-03-01T20:51:15.792754Z",
     "shell.execute_reply": "2023-03-01T20:51:15.790445Z"
    },
    "papermill": {
     "duration": 0.019177,
     "end_time": "2023-03-01T20:51:15.795660",
     "exception": false,
     "start_time": "2023-03-01T20:51:15.776483",
     "status": "completed"
    },
    "tags": []
   },
   "outputs": [
    {
     "name": "stdout",
     "output_type": "stream",
     "text": [
      "4\n"
     ]
    },
    {
     "data": {
      "text/plain": [
       "4"
      ]
     },
     "execution_count": 5,
     "metadata": {},
     "output_type": "execute_result"
    }
   ],
   "source": [
    "#lambda function\n",
    "#Amaç daha hızlı bir şekilde fonksiyon yazabilmektir.\n",
    "\n",
    "def hesapla(x):\n",
    "    \n",
    "    output= x*x\n",
    "    \n",
    "    return output\n",
    "\n",
    "sonuc1 = hesapla(2)\n",
    "\n",
    "sonuc2 = lambda x: x*x \n",
    "\n",
    "print(sonuc2(2)) \n",
    "\n",
    "#iki fonksiyonda da x'in karesi hesaplanır. lambda ile daha kısa bir yazım olur.\n",
    "\n",
    "y = 2\n",
    "\n",
    "z = lambda x:x*y\n",
    "\n",
    "z(2) "
   ]
  },
  {
   "cell_type": "code",
   "execution_count": 6,
   "id": "228de93c",
   "metadata": {
    "execution": {
     "iopub.execute_input": "2023-03-01T20:51:15.804734Z",
     "iopub.status.busy": "2023-03-01T20:51:15.804208Z",
     "iopub.status.idle": "2023-03-01T20:51:15.813519Z",
     "shell.execute_reply": "2023-03-01T20:51:15.812183Z"
    },
    "papermill": {
     "duration": 0.016976,
     "end_time": "2023-03-01T20:51:15.816093",
     "exception": false,
     "start_time": "2023-03-01T20:51:15.799117",
     "status": "completed"
    },
    "tags": []
   },
   "outputs": [
    {
     "name": "stdout",
     "output_type": "stream",
     "text": [
      "hayır\n"
     ]
    }
   ],
   "source": [
    "#dictionary\n",
    "\n",
    "dictionary = {\"ahmet\":22, \"emir\":21, \"nazli\":10, \"emircan\":3}\n",
    "\n",
    "#küçük bir database\n",
    "type(dictionary)\n",
    "dictionary[\"ahmet\"]#ahmetin yaşı\n",
    "type(dictionary[\"ahmet\"])\n",
    "\n",
    "dictionary.keys() #dictionorydeki keyleri sıraları\n",
    "dictionary.values() #dictionary'de tanımlı valuelar verilir.\n",
    "\n",
    "keys = dictionary.keys()\n",
    "if \"cihan\" in keys: #cihan keylerin içindeyse evet, değilse hayır yazılır.\n",
    "    \n",
    "    print(\"evet\")\n",
    "\n",
    "else:\n",
    "    print(\"hayır\")"
   ]
  },
  {
   "cell_type": "code",
   "execution_count": 7,
   "id": "8339b192",
   "metadata": {
    "execution": {
     "iopub.execute_input": "2023-03-01T20:51:15.825281Z",
     "iopub.status.busy": "2023-03-01T20:51:15.824797Z",
     "iopub.status.idle": "2023-03-01T20:51:15.832613Z",
     "shell.execute_reply": "2023-03-01T20:51:15.830781Z"
    },
    "papermill": {
     "duration": 0.016321,
     "end_time": "2023-03-01T20:51:15.835880",
     "exception": false,
     "start_time": "2023-03-01T20:51:15.819559",
     "status": "completed"
    },
    "tags": []
   },
   "outputs": [
    {
     "name": "stdout",
     "output_type": "stream",
     "text": [
      "1\n",
      "2\n",
      "3\n",
      "4\n",
      "5\n",
      "6\n",
      "7\n",
      "a\n",
      "n\n",
      "k\n",
      "a\n",
      "r\n",
      "a\n",
      " \n",
      "m\n",
      "e\n",
      "s\n",
      "s\n",
      "i\n"
     ]
    }
   ],
   "source": [
    "for each in range (1,8): #1 -> inclusive, 11 -> exclusive\n",
    "    \n",
    "    print(each) \n",
    "\n",
    "for each in \"ankara messi\":\n",
    "    \n",
    "    print(each)"
   ]
  }
 ],
 "metadata": {
  "kernelspec": {
   "display_name": "Python 3",
   "language": "python",
   "name": "python3"
  },
  "language_info": {
   "codemirror_mode": {
    "name": "ipython",
    "version": 3
   },
   "file_extension": ".py",
   "mimetype": "text/x-python",
   "name": "python",
   "nbconvert_exporter": "python",
   "pygments_lexer": "ipython3",
   "version": "3.7.12"
  },
  "papermill": {
   "default_parameters": {},
   "duration": 12.891732,
   "end_time": "2023-03-01T20:51:16.765655",
   "environment_variables": {},
   "exception": null,
   "input_path": "__notebook__.ipynb",
   "output_path": "__notebook__.ipynb",
   "parameters": {},
   "start_time": "2023-03-01T20:51:03.873923",
   "version": "2.4.0"
  }
 },
 "nbformat": 4,
 "nbformat_minor": 5
}
